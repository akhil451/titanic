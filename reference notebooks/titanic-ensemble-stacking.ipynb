{
 "cells": [
  {
   "cell_type": "code",
   "execution_count": null,
   "metadata": {
    "_cell_guid": "b1076dfc-b9ad-4769-8c92-a6c4dae69d19",
    "_uuid": "8f2839f25d086af736a60e9eeb907d3b93b6e0e5"
   },
   "outputs": [],
   "source": [
    "# This Python 3 environment comes with many helpful analytics libraries installed\n",
    "# It is defined by the kaggle/python docker image: https://github.com/kaggle/docker-python\n",
    "# For example, here's several helpful packages to load in \n",
    "\n",
    "import numpy as np # linear algebra\n",
    "import pandas as pd # data processing, CSV file I/O (e.g. pd.read_csv)\n",
    "\n",
    "# Input data files are available in the \"../input/\" directory.\n",
    "# For example, running this (by clicking run or pressing Shift+Enter) will list the files in the input directory\n",
    "\n",
    "import os\n",
    "print(os.listdir(\"../input\"))\n",
    "\n",
    "# Any results you write to the current directory are saved as output."
   ]
  },
  {
   "cell_type": "code",
   "execution_count": null,
   "metadata": {
    "_uuid": "e0cac1ca0ea4e8ac4e44e881cb5bb6bf50874531"
   },
   "outputs": [],
   "source": [
    "#import the modules \n",
    "from sklearn.impute import SimpleImputer\n",
    "from sklearn.model_selection import train_test_split\n",
    "from xgboost import XGBClassifier\n",
    "from sklearn.model_selection import cross_val_score\n",
    "from sklearn.pipeline import make_pipeline\n",
    "from keras.models import Sequential\n",
    "from keras.layers.core import Dense, Dropout, Activation\n",
    "from keras.utils import np_utils\n",
    "from keras import optimizers\n",
    "import numpy as np\n",
    "import matplotlib.pyplot as plt\n",
    "import seaborn as sns\n",
    "from sklearn.preprocessing import LabelEncoder\n",
    "from sklearn.ensemble import RandomForestClassifier,AdaBoostClassifier,ExtraTreesClassifier\n",
    "from sklearn.neighbors import KNeighborsClassifier\n",
    "from sklearn.linear_model import LogisticRegression\n",
    "from sklearn import metrics\n",
    "from sklearn.svm import SVC\n",
    "from sklearn.model_selection import KFold,GridSearchCV"
   ]
  },
  {
   "cell_type": "code",
   "execution_count": null,
   "metadata": {
    "_cell_guid": "79c7e3d0-c299-4dcb-8224-4455121ee9b0",
    "_uuid": "d629ff2d2480ee46fbb7e2d37f6b5fab8052498a"
   },
   "outputs": [],
   "source": [
    "train_data = pd.read_csv(\"../input/train.csv\")\n",
    "test_data = pd.read_csv(\"../input/test.csv\")"
   ]
  },
  {
   "cell_type": "code",
   "execution_count": null,
   "metadata": {
    "_uuid": "1b7d766e4a7eb4902447499e683fa3de2524d2e8"
   },
   "outputs": [],
   "source": [
    "def visDataHist(data,feature_columns):\n",
    "    \n",
    "    plt.figure(figsize=(15,10))\n",
    "    for i,key in enumerate(feature_columns):\n",
    "        plt.subplot(len(feature_columns)/3+1,3,i+1)\n",
    "        data[key].hist()\n",
    "        plt.title(key)\n",
    "    plt.show()"
   ]
  },
  {
   "cell_type": "code",
   "execution_count": null,
   "metadata": {
    "_uuid": "31ab6b869d88d0356614e94dc06a5870b272b438"
   },
   "outputs": [],
   "source": [
    "visDataHist(train_data,[col for col in train_data.columns if train_data[col].dtype != 'object'])"
   ]
  },
  {
   "cell_type": "code",
   "execution_count": null,
   "metadata": {
    "_uuid": "881bc72c523cb19a12e61bd20eee9fd34fd85fab"
   },
   "outputs": [],
   "source": [
    "def check_value_counts(data):\n",
    "    data_keys = data.keys()\n",
    "    \n",
    "    for key in data_keys:\n",
    "        print(key)\n",
    "        print(data[key].value_counts())\n",
    "        print('----------------------------')"
   ]
  },
  {
   "cell_type": "code",
   "execution_count": null,
   "metadata": {
    "_uuid": "cb11330bf92515769be2c99d05b1349271248056"
   },
   "outputs": [],
   "source": [
    "def check_missing_values(data):\n",
    "    print(data.isnull().sum())"
   ]
  },
  {
   "cell_type": "code",
   "execution_count": null,
   "metadata": {
    "_uuid": "4bf92959d727324d2ae68fc93dad8a7f382887dd"
   },
   "outputs": [],
   "source": [
    "check_missing_values(train_data)\n",
    "check_missing_values(test_data)"
   ]
  },
  {
   "cell_type": "code",
   "execution_count": null,
   "metadata": {
    "_uuid": "83d27061daad73173539d9784e2efe467a0e6905"
   },
   "outputs": [],
   "source": [
    "check_value_counts(train_data[[col for col in train_data.columns if col != 'PassengerId']])\n",
    "print('*'*100,'\\n')\n",
    "check_value_counts(test_data[[col for col in test_data.columns if col != 'PassengerId']])"
   ]
  },
  {
   "cell_type": "code",
   "execution_count": null,
   "metadata": {
    "_uuid": "8596e73a72e280c11f4a707c6291689ade22bc11"
   },
   "outputs": [],
   "source": [
    "def preProcessingData(data,feature_columns):\n",
    "    data = data[feature_columns]\n",
    "    \n",
    "    my_imputer = SimpleImputer()\n",
    "    \n",
    "    data['Age_was_missing'] = data['Age'].isnull()\n",
    "    data['Age_was_missing'] = data['Age_was_missing'].apply(lambda v:1 if v==True else 0)\n",
    "    data['Sex'] = data['Sex'].map(lambda v: 1 if v=='male' else 0)\n",
    "    if data['Fare'].isnull().sum():\n",
    "        data['Fare'] = pd.Series((my_imputer.fit_transform(np.array(data['Fare']).reshape(-1,1))).reshape(-1,),name='Fare')\n",
    "    \n",
    "    bins = np.linspace(0,100,5)\n",
    "    data.Fare = pd.Series(np.digitize(data.Fare,bins),name='Fare')\n",
    "    \n",
    "    \n",
    "    data = data.rename(columns = {'Name':'Name_title'})\n",
    "    data['Name_title'] = pd.Series(data.Name_title.str.split(',').str[1].str.split('.').str[0].str.strip())\n",
    "    data.Name_title.replace(to_replace = ['Dr','Major','Capt','Sir','Rev','Mlle','Col','Mme','Jonkheer','Don','the Countess','Dona'],value = 'Master', inplace = True)\n",
    "    data.Name_title.replace(to_replace = ['Lady','Ms'], value = 'Miss', inplace = True)\n",
    "    \n",
    "    data['Cabin'].iloc[data.Cabin.loc[data.Cabin.notnull()].index] = 1\n",
    "    data['Cabin'] = data.Cabin.fillna(0)\n",
    "    #data['Cabin'] = data['Cabin'].apply(lambda v: v[0])\n",
    "    \n",
    "    data['FamSize'] = data.SibSp + data.Parch + 1\n",
    "    data.FamSize.replace(to_replace = [1], value = 'single', inplace = True)\n",
    "    data.FamSize.replace(to_replace = [2,3,4,5], value = 'family', inplace = True)\n",
    "    data.FamSize.replace(to_replace = [6,7,8,11], value = 'large_family', inplace = True)\n",
    "    \n",
    "    data.Embarked = data.Embarked.fillna('C')\n",
    "    data.Embarked.replace(to_replace = 'C', value = 1 , inplace = True)\n",
    "    data.Embarked.replace(to_replace = 'S', value = 2 , inplace = True)\n",
    "    data.Embarked.replace(to_replace = 'Q', value = 3 , inplace = True)\n",
    "    data = data.drop(['SibSp'],axis=1)\n",
    "    \n",
    "    return data"
   ]
  },
  {
   "cell_type": "code",
   "execution_count": null,
   "metadata": {
    "_uuid": "28caa235f4926cf105691d3c8a8fc8c801f84191"
   },
   "outputs": [],
   "source": [
    "def correlationDraw(data,subFeature,mainFeature):\n",
    "    \n",
    "    correlation = data.loc[:,subFeature]\n",
    "    correlation = correlation.agg(LabelEncoder().fit_transform)\n",
    "    correlation[mainFeature] = data[mainFeature]\n",
    "\n",
    "    correlationData = correlation.corr()\n",
    "    \n",
    "    fig = plt.figure(figsize=(10,10))\n",
    "    ax = fig.add_subplot(111)\n",
    "    cax = ax.matshow(correlationData,vmin=-1,vmax=1)\n",
    "    \n",
    "    for(i,j),val in np.ndenumerate(correlationData):\n",
    "        ax.text(j,i,'{:0.1f}'.format(val),ha='center',va='center')\n",
    "    \n",
    "    ticks = np.arange(0,len(subFeature)+1,1)\n",
    "    ax.set_xticks(ticks)\n",
    "    ax.set_yticks(ticks)\n",
    "    \n",
    "    ax.set_xticklabels(subFeature+mainFeature)\n",
    "    ax.set_yticklabels(subFeature+mainFeature)\n",
    "\n",
    "    plt.show()"
   ]
  },
  {
   "cell_type": "code",
   "execution_count": null,
   "metadata": {
    "_uuid": "6c282ca0169c33f5ac31600c3e5450dfcc2ba88a"
   },
   "outputs": [],
   "source": [
    "TargetLabel = train_data['Survived']\n",
    "feature_columns = ['Pclass','Name','Sex','Age','SibSp','Parch','Fare','Cabin','Embarked']\n",
    "\n",
    "preprocessed_test_data = preProcessingData(test_data,feature_columns)\n",
    "preprocessed_train_data = preProcessingData(train_data,feature_columns)\n",
    "\n",
    "merged_data = pd.concat([preprocessed_train_data,preprocessed_test_data])\n",
    "\n",
    "correlationDraw(merged_data,['Pclass','Name_title','Sex','FamSize','Fare','Cabin','Embarked'],['Age'])"
   ]
  },
  {
   "cell_type": "code",
   "execution_count": null,
   "metadata": {
    "_uuid": "a647345239852203f2217908b7def2f880dc34a2"
   },
   "outputs": [],
   "source": [
    "check_missing_values(merged_data)\n",
    "merged_data.Age = merged_data.groupby(['Name_title','Pclass'])['Age'].transform(lambda v: v.fillna(v.median()))\n",
    "Age_bins = np.linspace(20,60,3)\n",
    "merged_data.Age = pd.Series(np.digitize(merged_data.Age,Age_bins),name='Age')\n"
   ]
  },
  {
   "cell_type": "code",
   "execution_count": null,
   "metadata": {
    "_uuid": "de48f90821e121701f201fb3720c7ffceee13293"
   },
   "outputs": [],
   "source": [
    "check_value_counts(merged_data)"
   ]
  },
  {
   "cell_type": "code",
   "execution_count": null,
   "metadata": {
    "_uuid": "8d24668cb60fccf7dc858133c1f62930dfc3ee24"
   },
   "outputs": [],
   "source": [
    "def deep_model_build(input_shape,train_x,train_y,test_x,test_y):\n",
    "\n",
    "    deep_model = Sequential()\n",
    "    deep_model.add(Dense(32,input_shape=input_shape))\n",
    "    deep_model.add(Activation('relu'))\n",
    "    deep_model.add(Dropout(0.2))\n",
    "\n",
    "    deep_model.add(Dense(64))\n",
    "    deep_model.add(Activation('relu'))\n",
    "    deep_model.add(Dropout(0.2))\n",
    "\n",
    "    deep_model.add(Dense(32))\n",
    "    deep_model.add(Activation('relu'))\n",
    "    deep_model.add(Dropout(0.2))\n",
    "    \n",
    "    deep_model.add(Dense(20))\n",
    "    deep_model.add(Activation('relu'))\n",
    "    \n",
    "    \n",
    "    deep_model.add(Dense(2))\n",
    "    deep_model.add(Activation('softmax'))\n",
    "\n",
    "    my_optimizer = optimizers.Adadelta()\n",
    "    deep_model.compile(loss='mean_squared_error',optimizer=my_optimizer,metrics=['accuracy'])\n",
    "    deep_model.optimizer.lr=0.1\n",
    "    train_y_temp = np_utils.to_categorical(train_y,2)\n",
    "    test_y_temp = np_utils.to_categorical(test_y,2)\n",
    "    \n",
    "    history = deep_model.fit(train_x,train_y_temp,batch_size=24,epochs=150,verbose=0,validation_data=(test_x,test_y_temp))\n",
    "    print('Train accuracy:',np.max(history.history['acc']))\n",
    "    print('Validation accuracy:',np.max(history.history['val_acc']))\n",
    "    plt.xlabel('Epoch')\n",
    "    plt.ylabel('Accuracy')\n",
    "    plt.title('Training data')\n",
    "    plt.plot(history.history['acc'])\n",
    "    plt.plot(history.history['val_acc'])\n",
    "    plt.legend(['training','valiation'],loc='lower right')\n",
    "    plt.show()\n",
    "    return deep_model"
   ]
  },
  {
   "cell_type": "code",
   "execution_count": null,
   "metadata": {
    "_uuid": "52dbe0e11c855596a930aac2e24736cc29db31f9"
   },
   "outputs": [],
   "source": [
    "Numerical_merged_data = pd.get_dummies(merged_data)\n",
    "processed_train_data = Numerical_merged_data.iloc[:preprocessed_train_data.shape[0],:]\n",
    "processed_test_data = Numerical_merged_data.iloc[preprocessed_train_data.shape[0]:,:]\n",
    "#train_x = processed_train_data.iloc[:int(len(processed_train_data)*0.8),:]\n",
    "#test_x = processed_train_data.iloc[int(len(processed_train_data)*0.8):,:]\n",
    "#train_y = TargetLabel[0:int(len(TargetLabel)*0.8)]\n",
    "#test_y = TargetLabel[int(len(TargetLabel)*0.8):]\n",
    "train_x,test_x,train_y,test_y = train_test_split(processed_train_data,TargetLabel,test_size=0.2,random_state=1)"
   ]
  },
  {
   "cell_type": "code",
   "execution_count": null,
   "metadata": {
    "_uuid": "34f4bd53ed73c65abc13907314a80ed9991c983a"
   },
   "outputs": [],
   "source": [
    "ntrain = len(processed_train_data)\n",
    "ntest = len(processed_test_data)\n",
    "#ntrain = len(train_x)\n",
    "#ntest = len(test_x)\n",
    "kf = KFold(n_splits=5,random_state=2017)\n",
    "def get_oof(classifier,train_x,train_y,test_x):\n",
    "    oof_train = np.zeros((ntrain,))\n",
    "    oof_test = np.zeros((ntest,))\n",
    "    oof_test_skf = np.zeros((5,ntest))\n",
    "    \n",
    "    for i,(train_idx,test_idx) in enumerate(kf.split(train_x)):\n",
    "        kf_train_x = train_x.iloc[train_idx]\n",
    "        kf_train_y = train_y[train_idx]\n",
    "        kf_test_x = train_x.iloc[test_idx]\n",
    "        \n",
    "        classifier.fit(kf_train_x,kf_train_y)\n",
    "        oof_train[test_idx] = classifier.predict(kf_test_x)\n",
    "        oof_test_skf[i,:] = classifier.predict(test_x)\n",
    "    \n",
    "    oof_test = oof_test_skf.mean(axis=0)\n",
    "    \n",
    "    return oof_train.reshape(-1,1),oof_test.reshape(-1,1)\n"
   ]
  },
  {
   "cell_type": "code",
   "execution_count": null,
   "metadata": {
    "_uuid": "31b4a30beadbaa48d3a10b41140303be9f90fade"
   },
   "outputs": [],
   "source": [
    "def tuneParams(classifier,params,train_x,train_y):\n",
    "    md = GridSearchCV(classifier,params,cv=10,scoring='accuracy',n_jobs=-1)\n",
    "    md.fit(train_x,train_y)\n",
    "    best_params,best_score = md.best_params_,np.round(md.best_score_*100,2)\n",
    "    \n",
    "    return best_params,best_score"
   ]
  },
  {
   "cell_type": "code",
   "execution_count": null,
   "metadata": {
    "_uuid": "d0eec6812eb0e3f7a6725910219d7f11e9c92742"
   },
   "outputs": [],
   "source": [
    "xgbParams = {'max_depth':[3,5,8,10],'learning_rate':[0.01,0.1,0.5],'n_estimator':[100,300,500],'gamma':[0.01,0.05,0.1,0.5]}\n",
    "ABParams = {'n_estimators':[100,300,500],'learning_rate':[0.01,0.5,0.1,0.5]}\n",
    "RFParams = {'n_estimators':[10,30,50],'max_depth':[3,5,8,10],'min_samples_split':[2,5,10],'min_samples_leaf':[2,4,10],'random_state':[5]}\n",
    "ETParams = {'n_estimators':[100,300,500],'max_depth':[3,8,12],'min_samples_leaf':[2,4,9],'verbose':[0]}\n",
    "KNNParams = {'n_neighbors':[3,8,14],'leaf_size':[2,5,9],'weights':['uniform']}\n",
    "SVCParams = {'C':[0.01,0.1,0.5],'gamma':[0.01,0.2]}"
   ]
  },
  {
   "cell_type": "code",
   "execution_count": null,
   "metadata": {
    "_uuid": "058b6807ce6285de4effafc83b7fa6f74ac9177a"
   },
   "outputs": [],
   "source": [
    "xgb_best_Params,xgb_best_score = tuneParams(XGBClassifier(),xgbParams,processed_train_data,TargetLabel)\n",
    "AB_best_Params,AB_best_score = tuneParams(AdaBoostClassifier(),ABParams,processed_train_data,TargetLabel)\n",
    "RF_best_Params,RF_best_score = tuneParams(RandomForestClassifier(),RFParams,processed_train_data,TargetLabel)\n",
    "ET_best_Params,ET_best_score = tuneParams(ExtraTreesClassifier(),ETParams,processed_train_data,TargetLabel)\n",
    "KNN_best_Params,KNN_best_score = tuneParams(KNeighborsClassifier(),KNNParams,processed_train_data,TargetLabel)\n",
    "SVC_best_Params,SVC_best_score = tuneParams(SVC(),SVCParams,processed_train_data,TargetLabel)\n",
    "print(\"XGB:\",xgb_best_Params,xgb_best_score)\n",
    "print(\"AdaBoost:\",AB_best_Params,AB_best_score)\n",
    "print(\"RandomForest:\",RF_best_Params,RF_best_score)\n",
    "print(\"ExtraTrees:\",ET_best_Params,ET_best_score)\n",
    "print(\"KNeighbors:\",KNN_best_Params,KNN_best_score)\n",
    "print(\"SVC:\",SVC_best_Params,SVC_best_score)"
   ]
  },
  {
   "cell_type": "code",
   "execution_count": null,
   "metadata": {
    "_uuid": "e1a80e5ed0b025c9e8629f7070fdc161a0f72d7f"
   },
   "outputs": [],
   "source": [
    "xgb_oof_train,xgb_oof_test = get_oof(XGBClassifier(**xgb_best_Params),processed_train_data,TargetLabel,processed_test_data)\n",
    "AB_oof_train,AB_oof_test = get_oof(AdaBoostClassifier(**AB_best_Params),processed_train_data,TargetLabel,processed_test_data)\n",
    "RF_oof_train,RF_oof_test = get_oof(RandomForestClassifier(**RF_best_Params),processed_train_data,TargetLabel,processed_test_data)\n",
    "ET_oof_train,ET_oof_test = get_oof(ExtraTreesClassifier(**ET_best_Params),processed_train_data,TargetLabel,processed_test_data)\n",
    "KNN_oof_train,KNN_oof_test =  get_oof(KNeighborsClassifier(**KNN_best_Params),processed_train_data,TargetLabel,processed_test_data)\n",
    "SVC_oof_train,SVC_oof_test = get_oof(SVC(**SVC_best_Params),processed_train_data,TargetLabel,processed_test_data)"
   ]
  },
  {
   "cell_type": "code",
   "execution_count": null,
   "metadata": {
    "_uuid": "8eaf85aa660190ff648f17c22ae99e11714af139"
   },
   "outputs": [],
   "source": [
    "final_train = np.concatenate((xgb_oof_train,AB_oof_train,RF_oof_train,ET_oof_train,KNN_oof_train,SVC_oof_train),axis=1)\n",
    "final_test = np.concatenate((xgb_oof_test,AB_oof_test,RF_oof_test,ET_oof_test,KNN_oof_test,SVC_oof_test),axis=1)"
   ]
  },
  {
   "cell_type": "code",
   "execution_count": null,
   "metadata": {
    "_uuid": "bdc49590cc12c81a43e867e698b6da901f0383fb"
   },
   "outputs": [],
   "source": [
    "LRParams = {'penalty':['l1','l2'],'C':[0.01,0.05,0.1,0.2]}\n",
    "LR_best_Params,LR_best_score = tuneParams(LogisticRegression(),LRParams,final_train,TargetLabel)\n",
    "print(\"LR:\",LR_best_Params,LR_best_score)"
   ]
  },
  {
   "cell_type": "code",
   "execution_count": null,
   "metadata": {
    "_uuid": "4ddc98052a33b10885b969dbef80b005b48f1df7"
   },
   "outputs": [],
   "source": [
    "LR_model = LogisticRegression(**LR_best_Params)\n",
    "LR_model.fit(final_train,TargetLabel)\n",
    "prediction = LR_model.predict(final_test)"
   ]
  },
  {
   "cell_type": "code",
   "execution_count": null,
   "metadata": {
    "_uuid": "e8059a736be030de3637ffba2ff37213f4f4747b"
   },
   "outputs": [],
   "source": [
    "deep_output = pd.DataFrame({'PassengerId':test_data['PassengerId'],\n",
    "                            'Survived':prediction})\n",
    "deep_output.to_csv('submission_v12.csv',index=False)"
   ]
  }
 ],
 "metadata": {
  "kernelspec": {
   "display_name": "Python 3",
   "language": "python",
   "name": "python3"
  },
  "language_info": {
   "codemirror_mode": {
    "name": "ipython",
    "version": 3
   },
   "file_extension": ".py",
   "mimetype": "text/x-python",
   "name": "python",
   "nbconvert_exporter": "python",
   "pygments_lexer": "ipython3",
   "version": "3.7.0"
  }
 },
 "nbformat": 4,
 "nbformat_minor": 1
}
